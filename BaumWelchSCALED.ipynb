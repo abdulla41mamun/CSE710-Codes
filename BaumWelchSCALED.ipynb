{
  "nbformat": 4,
  "nbformat_minor": 0,
  "metadata": {
    "colab": {
      "provenance": [],
      "authorship_tag": "ABX9TyPUUsK52gtf9QEc/uFZxLoB",
      "include_colab_link": true
    },
    "kernelspec": {
      "name": "python3",
      "display_name": "Python 3"
    },
    "language_info": {
      "name": "python"
    }
  },
  "cells": [
    {
      "cell_type": "markdown",
      "metadata": {
        "id": "view-in-github",
        "colab_type": "text"
      },
      "source": [
        "<a href=\"https://colab.research.google.com/github/abdulla41mamun/CSE710-Codes/blob/main/BaumWelchSCALED.ipynb\" target=\"_parent\"><img src=\"https://colab.research.google.com/assets/colab-badge.svg\" alt=\"Open In Colab\"/></a>"
      ]
    },
    {
      "cell_type": "code",
      "execution_count": null,
      "metadata": {
        "colab": {
          "base_uri": "https://localhost:8080/"
        },
        "id": "_Cd5LUKLoxHg",
        "outputId": "3f4f0103-ac03-4002-8c18-ea078b6613a5"
      },
      "outputs": [
        {
          "output_type": "stream",
          "name": "stdout",
          "text": [
            "Forward Probabilities (alpha):\n",
            "[[0.3       0.04     ]\n",
            " [0.136     0.0068   ]\n",
            " [0.022848  0.005712 ]\n",
            " [0.0022848 0.0022848]]\n",
            "\n",
            "Backward Probabilities (beta):\n",
            "[[0.01344 0.01344]\n",
            " [0.032   0.032  ]\n",
            " [0.16    0.16   ]\n",
            " [1.      1.     ]]\n",
            "\n",
            "State Probabilities (gamma):\n",
            "[[0.88235294 0.11764706]\n",
            " [0.95238095 0.04761905]\n",
            " [0.8        0.2       ]\n",
            " [0.5        0.5       ]]\n",
            "\n",
            "Transition Probabilities (xi):\n",
            "[[[0.84033613 0.04201681]\n",
            "  [0.11204482 0.00560224]]\n",
            "\n",
            " [[0.76190476 0.19047619]\n",
            "  [0.03809524 0.00952381]]\n",
            "\n",
            " [[0.4        0.4       ]\n",
            "  [0.1        0.1       ]]]\n",
            "\n",
            "Updated Initial Probabilities (pi):\n",
            "[0.88235294 0.11764706]\n",
            "\n",
            "Updated Transition Probabilities (A):\n",
            "[[0.75994046 0.24005954]\n",
            " [0.68481595 0.31518405]]\n",
            "\n",
            "Updated Emission Probabilities (phi):\n",
            "[[0.58529175 0.         0.25520508 0.15950317]\n",
            " [0.19100032 0.         0.23114276 0.57785691]]\n"
          ]
        }
      ],
      "source": [
        "import numpy as np\n",
        "\n",
        "# Initialization of HMM parameters\n",
        "pi = np.array([0.6, 0.4])  # Initial state probabilities [H, S]\n",
        "A = np.array([[0.8, 0.2], [0.8, 0.2]])  # Transition probabilities\n",
        "phi = np.array([[0.5, 0.2, 0.2, 0.1], [0.1, 0.3, 0.2, 0.4]])  # Emission probabilities for PP, PN, NP, NN\n",
        "\n",
        "# Observation sequence: PP, PP, NP, NN\n",
        "obs = [0, 0, 2, 3]  # Encoded as indices\n",
        "T = len(obs)\n",
        "num_states = len(pi)\n",
        "\n",
        "# Forward Algorithm\n",
        "alpha = np.zeros((T, num_states))\n",
        "alpha[0, :] = pi * phi[:, obs[0]]\n",
        "\n",
        "for t in range(1, T):\n",
        "    for j in range(num_states):\n",
        "        alpha[t, j] = np.sum(alpha[t - 1, :] * A[:, j]) * phi[j, obs[t]]\n",
        "\n",
        "# Backward Algorithm\n",
        "beta = np.zeros((T, num_states))\n",
        "beta[T - 1, :] = 1\n",
        "\n",
        "for t in range(T - 2, -1, -1):\n",
        "    for i in range(num_states):\n",
        "        beta[t, i] = np.sum(A[i, :] * phi[:, obs[t + 1]] * beta[t + 1, :])\n",
        "\n",
        "# Compute gamma (state probabilities)\n",
        "gamma = np.zeros((T, num_states))\n",
        "for t in range(T):\n",
        "    gamma[t, :] = alpha[t, :] * beta[t, :]\n",
        "    gamma[t, :] /= np.sum(gamma[t, :])\n",
        "\n",
        "# Compute xi (transition probabilities)\n",
        "xi = np.zeros((T - 1, num_states, num_states))\n",
        "for t in range(T - 1):\n",
        "    for i in range(num_states):\n",
        "        for j in range(num_states):\n",
        "            xi[t, i, j] = (\n",
        "                alpha[t, i] * A[i, j] * phi[j, obs[t + 1]] * beta[t + 1, j]\n",
        "            )\n",
        "    xi[t, :, :] /= np.sum(xi[t, :, :])  # Normalize for each time step t\n",
        "\n",
        "# Update Parameters\n",
        "updated_pi = gamma[0, :]\n",
        "updated_A = np.zeros((num_states, num_states))\n",
        "for i in range(num_states):\n",
        "    for j in range(num_states):\n",
        "        updated_A[i, j] = np.sum(xi[:, i, j]) / np.sum(gamma[:-1, i])\n",
        "\n",
        "updated_phi = np.zeros_like(phi)\n",
        "for j in range(num_states):\n",
        "    for k in range(phi.shape[1]):\n",
        "        updated_phi[j, k] = np.sum(gamma[np.array(obs) == k, j]) / np.sum(gamma[:, j])\n",
        "\n",
        "# Print Results\n",
        "print(\"Forward Probabilities (alpha):\")\n",
        "print(alpha)\n",
        "print(\"\\nBackward Probabilities (beta):\")\n",
        "print(beta)\n",
        "print(\"\\nState Probabilities (gamma):\")\n",
        "print(gamma)\n",
        "print(\"\\nTransition Probabilities (xi):\")\n",
        "print(xi)\n",
        "print(\"\\nUpdated Initial Probabilities (pi):\")\n",
        "print(updated_pi)\n",
        "print(\"\\nUpdated Transition Probabilities (A):\")\n",
        "print(updated_A)\n",
        "print(\"\\nUpdated Emission Probabilities (phi):\")\n",
        "print(updated_phi)\n"
      ]
    }
  ]
}