{
  "nbformat": 4,
  "nbformat_minor": 0,
  "metadata": {
    "colab": {
      "provenance": [],
      "authorship_tag": "ABX9TyM589ZNhcMG1AyLq7f4S9CE",
      "include_colab_link": true
    },
    "kernelspec": {
      "name": "python3",
      "display_name": "Python 3"
    },
    "language_info": {
      "name": "python"
    }
  },
  "cells": [
    {
      "cell_type": "markdown",
      "metadata": {
        "id": "view-in-github",
        "colab_type": "text"
      },
      "source": [
        "<a href=\"https://colab.research.google.com/github/abdulla41mamun/CSE710-Codes/blob/main/BaumWelch.ipynb\" target=\"_parent\"><img src=\"https://colab.research.google.com/assets/colab-badge.svg\" alt=\"Open In Colab\"/></a>"
      ]
    },
    {
      "cell_type": "code",
      "execution_count": 5,
      "metadata": {
        "colab": {
          "base_uri": "https://localhost:8080/"
        },
        "id": "_Cd5LUKLoxHg",
        "outputId": "0f0edbd9-0389-4b38-c749-c78dee5ffac5"
      },
      "outputs": [
        {
          "output_type": "stream",
          "name": "stdout",
          "text": [
            "Forward Probabilities (alpha):\n",
            "[[0.3       0.04     ]\n",
            " [0.136     0.0068   ]\n",
            " [0.022848  0.005712 ]\n",
            " [0.0022848 0.0022848]]\n",
            "\n",
            "Backward Probabilities (beta):\n",
            "[[0.01344 0.01344]\n",
            " [0.032   0.032  ]\n",
            " [0.16    0.16   ]\n",
            " [1.      1.     ]]\n",
            "\n",
            "State Probabilities (gamma):\n",
            "[[0.88235294 0.11764706]\n",
            " [0.95238095 0.04761905]\n",
            " [0.8        0.2       ]\n",
            " [0.5        0.5       ]]\n",
            "\n",
            "Transition Probabilities (xi):\n",
            "[[[0.28011204 0.0140056 ]\n",
            "  [0.03734827 0.00186741]]\n",
            "\n",
            " [[0.25396825 0.06349206]\n",
            "  [0.01269841 0.0031746 ]]\n",
            "\n",
            " [[0.13333333 0.13333333]\n",
            "  [0.03333333 0.03333333]]]\n",
            "\n",
            "Updated Initial Probabilities (pi):\n",
            "[0.88235294 0.11764706]\n",
            "\n",
            "Updated Transition Probabilities (A):\n",
            "[[0.25331349 0.08001985]\n",
            " [0.22827198 0.10506135]]\n",
            "\n",
            "Updated Emission Probabilities (phi):\n",
            "[[0.58529175 0.         0.25520508 0.15950317]\n",
            " [0.19100032 0.         0.23114276 0.57785691]]\n"
          ]
        }
      ],
      "source": [
        "import numpy as np\n",
        "\n",
        "# Initialization of HMM parameters\n",
        "pi = np.array([0.6, 0.4])  # Initial state probabilities [H, S]\n",
        "A = np.array([[0.8, 0.2], [0.8, 0.2]])  # Transition probabilities\n",
        "phi = np.array([[0.5, 0.2, 0.2, 0.1], [0.1, 0.3, 0.2, 0.4]])  # Emission probabilities for PP, PN, NP, NN\n",
        "\n",
        "# Observation sequence: PP, PP, NP, NN\n",
        "obs = [0, 0, 2, 3]  # Encoded as indices\n",
        "T = len(obs)\n",
        "num_states = len(pi)\n",
        "\n",
        "# Forward Algorithm\n",
        "alpha = np.zeros((T, num_states))\n",
        "alpha[0, :] = pi * phi[:, obs[0]]\n",
        "\n",
        "for t in range(1, T):\n",
        "    for j in range(num_states):\n",
        "        alpha[t, j] = np.sum(alpha[t - 1, :] * A[:, j]) * phi[j, obs[t]]\n",
        "\n",
        "# Backward Algorithm\n",
        "beta = np.zeros((T, num_states))\n",
        "beta[T - 1, :] = 1\n",
        "\n",
        "for t in range(T - 2, -1, -1):\n",
        "    for i in range(num_states):\n",
        "        beta[t, i] = np.sum(A[i, :] * phi[:, obs[t + 1]] * beta[t + 1, :])\n",
        "\n",
        "# Compute gamma (state probabilities)\n",
        "gamma = np.zeros((T, num_states))\n",
        "for t in range(T):\n",
        "    gamma[t, :] = alpha[t, :] * beta[t, :]\n",
        "    gamma[t, :] /= np.sum(gamma[t, :])\n",
        "\n",
        "# Compute xi (transition probabilities) - CORRECTED NORMALIZATION\n",
        "xi = np.zeros((T - 1, num_states, num_states))\n",
        "for t in range(T - 1):\n",
        "    for i in range(num_states):\n",
        "        for j in range(num_states):\n",
        "            xi[t, i, j] = (\n",
        "                alpha[t, i] * A[i, j] * phi[j, obs[t + 1]] * beta[t + 1, j]\n",
        "            )\n",
        "\n",
        "# Normalize xi AFTER summing over all i, j, and t\n",
        "xi /= np.sum(xi)  # Correct normalization\n",
        "\n",
        "# Update Parameters\n",
        "updated_pi = gamma[0, :]\n",
        "updated_A = np.zeros((num_states, num_states))\n",
        "for i in range(num_states):\n",
        "    for j in range(num_states):\n",
        "        updated_A[i, j] = np.sum(xi[:, i, j]) / np.sum(gamma[:-1, i])\n",
        "\n",
        "updated_phi = np.zeros_like(phi)\n",
        "for j in range(num_states):\n",
        "    for k in range(phi.shape[1]):\n",
        "        mask = (np.array(obs) == k)\n",
        "        updated_phi[j, k] = np.sum(gamma[mask, j]) / np.sum(gamma[:, j])\n",
        "\n",
        "# Print Results\n",
        "print(\"Forward Probabilities (alpha):\")\n",
        "print(alpha)\n",
        "print(\"\\nBackward Probabilities (beta):\")\n",
        "print(beta)\n",
        "print(\"\\nState Probabilities (gamma):\")\n",
        "print(gamma)\n",
        "print(\"\\nTransition Probabilities (xi):\")\n",
        "print(xi)\n",
        "print(\"\\nUpdated Initial Probabilities (pi):\")\n",
        "print(updated_pi)\n",
        "print(\"\\nUpdated Transition Probabilities (A):\")\n",
        "print(updated_A)\n",
        "print(\"\\nUpdated Emission Probabilities (phi):\")\n",
        "print(updated_phi)"
      ]
    }
  ]
}